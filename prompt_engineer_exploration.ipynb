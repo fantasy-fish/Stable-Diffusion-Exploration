{
  "cells": [
    {
      "cell_type": "markdown",
      "metadata": {
        "id": "-z-OAev1Sa5e"
      },
      "source": [
        "# Pre-compute the mid-U features"
      ]
    },
    {
      "cell_type": "code",
      "execution_count": null,
      "metadata": {
        "id": "su5OfbWZhtZV"
      },
      "outputs": [],
      "source": [
        "!pip install -qq transformers diffusers\n",
        "!pip install -qq datasets torchvision\n",
        "!pip install -qq wandb"
      ]
    },
    {
      "cell_type": "code",
      "execution_count": null,
      "metadata": {
        "id": "Mhr2BtARSa5g"
      },
      "outputs": [],
      "source": [
        "from diffusers import StableDiffusionPipeline, DDPMScheduler\n",
        "\n",
        "device = \"cuda\"\n",
        "pretrained_model_name = \"stabilityai/stable-diffusion-2-1-base\"\n",
        "pipe = StableDiffusionPipeline.from_pretrained(pretrained_model_name).to(device)\n",
        "def hook_fn(module, input, output):\n",
        "    module.output = output\n",
        "pipe.unet.mid_block.register_forward_hook(hook_fn)"
      ]
    },
    {
      "cell_type": "code",
      "execution_count": null,
      "metadata": {
        "id": "sawsfvMWSa5h"
      },
      "outputs": [],
      "source": [
        "from transformers import CLIPTextModel, CLIPTokenizer\n",
        "from diffusers import AutoencoderKL\n",
        "import torch\n",
        "from diffusers import DDPMScheduler\n",
        "\n",
        "device = \"cuda\"\n",
        "\n",
        "pretrained_model_name = \"stabilityai/stable-diffusion-2-1-base\"\n",
        "noise_scheduler = DDPMScheduler.from_pretrained(pretrained_model_name, subfolder=\"scheduler\")\n",
        "text_encoder = CLIPTextModel.from_pretrained(pretrained_model_name, subfolder=\"text_encoder\")\n",
        "vae = AutoencoderKL.from_pretrained(pretrained_model_name, subfolder=\"vae\")\n",
        "tokenizer = CLIPTokenizer.from_pretrained(\n",
        "        pretrained_model_name, subfolder=\"tokenizer\"\n",
        "    )\n",
        "\n",
        "vae.requires_grad_(False)\n",
        "text_encoder.requires_grad_(False)\n",
        "\n",
        "weight_dtype = torch.float32\n",
        "text_encoder.to(device, dtype=weight_dtype);\n",
        "vae.to(device, dtype=weight_dtype);"
      ]
    },
    {
      "cell_type": "code",
      "execution_count": null,
      "metadata": {
        "id": "GcNP6ydaSa5h"
      },
      "outputs": [],
      "source": [
        "from datasets import load_dataset\n",
        "from torchvision import transforms\n",
        "from PIL import Image\n",
        "import torch\n",
        "import random\n",
        "import numpy as np\n",
        "\n",
        "im_dir = \"data/laion-art\"\n",
        "\n",
        "resolution = 512\n",
        "train_batch_size = 4\n",
        "dataloader_num_workers = 8\n",
        "lr = 1e-4\n",
        "\n",
        "train_transforms = transforms.Compose(\n",
        "    [\n",
        "        transforms.Resize(resolution, interpolation=transforms.InterpolationMode.BILINEAR),\n",
        "        transforms.CenterCrop(resolution),\n",
        "        transforms.RandomHorizontalFlip(),\n",
        "        transforms.ToTensor(),\n",
        "        transforms.Normalize([0.5], [0.5]),\n",
        "    ]\n",
        ")\n",
        "\n",
        "def tokenize_captions(examples, is_train=True):\n",
        "        captions = []\n",
        "        for caption in examples['text']:\n",
        "            if isinstance(caption, str):\n",
        "                captions.append(caption)\n",
        "            elif isinstance(caption, (list, np.ndarray)):\n",
        "                # take a random caption if there are multiple\n",
        "                captions.append(random.choice(caption) if is_train else caption[0])\n",
        "            else:\n",
        "                raise ValueError(\n",
        "                    f\"Caption column 'text' should contain either strings or lists of strings.\"\n",
        "                )\n",
        "        inputs = tokenizer(\n",
        "            captions, max_length=tokenizer.model_max_length, padding=\"max_length\", truncation=True, return_tensors=\"pt\"\n",
        "        )\n",
        "        return inputs.input_ids\n",
        "\n",
        "def preprocess_train(examples):\n",
        "    images = [image.convert(\"RGB\") for image in examples[\"image\"]]\n",
        "    examples[\"pixel_values\"] = [train_transforms(image) for image in images]\n",
        "    examples[\"input_ids\"] = tokenize_captions(examples)\n",
        "    examples[\"aesthetic\"] = torch.tensor(examples[\"aesthetic\"]).float()\n",
        "    return examples\n",
        "\n",
        "dataset = load_dataset(\"fantasyfish/laion-art\")\n",
        "train_dataset = dataset[\"train\"].with_transform(preprocess_train)\n",
        "\n",
        "def collate_fn(examples):\n",
        "    pixel_values = torch.stack([example[\"pixel_values\"] for example in examples])\n",
        "    pixel_values = pixel_values.to(memory_format=torch.contiguous_format).float()\n",
        "    input_ids = torch.stack([example[\"input_ids\"] for example in examples])\n",
        "    aethetics = torch.FloatTensor([example[\"aesthetic\"] for example in examples])\n",
        "    return {\"pixel_values\": pixel_values, \"input_ids\": input_ids, \"aesthetics\": aethetics}\n",
        "\n",
        "# DataLoaders creation:\n",
        "train_dataloader = torch.utils.data.DataLoader(\n",
        "    train_dataset,\n",
        "    shuffle=False,\n",
        "    collate_fn=collate_fn,\n",
        "    batch_size=train_batch_size,\n",
        "    num_workers=dataloader_num_workers,\n",
        ")"
      ]
    },
    {
      "cell_type": "code",
      "execution_count": null,
      "metadata": {
        "id": "O5uwcjhmSa5i"
      },
      "outputs": [],
      "source": [
        "print(batch[\"pixel_values\"].shape)\n",
        "latents = vae.encode(batch[\"pixel_values\"].to(device, dtype=weight_dtype)).latent_dist.sample()\n",
        "print(latents.shape)"
      ]
    },
    {
      "cell_type": "code",
      "execution_count": null,
      "metadata": {
        "id": "BIhmZznYSa5k"
      },
      "outputs": [],
      "source": [
        "num_inference_steps = 30\n",
        "features_all = []\n",
        "\n",
        "for step, batch in enumerate(train_dataloader):\n",
        "\n",
        "    latents = vae.encode(batch[\"pixel_values\"].to(device, dtype=weight_dtype)).latent_dist.sample()\n",
        "    latents = latents * vae.config.scaling_factor # 0.18215\n",
        "\n",
        "    # Sample noise that we'll add to the latents\n",
        "    noise = torch.randn_like(latents)\n",
        "    # # https://www.crosslabs.org//blog/diffusion-with-offset-noise\n",
        "    # noise += args.noise_offset * torch.randn(\n",
        "    #     (latents.shape[0], latents.shape[1], 1, 1), device=latents.device\n",
        "    # )\n",
        "\n",
        "    bsz = latents.shape[0]\n",
        "    # Sample a random timestep for each image\n",
        "    timesteps = torch.randint(0, num_inference_steps, (bsz,), device=latents.device)\n",
        "    timesteps = timesteps.long()\n",
        "\n",
        "    # Add noise to the latents according to the noise magnitude at each timestep\n",
        "    # (this is the forward diffusion process)\n",
        "    noisy_latents = noise_scheduler.add_noise(latents, noise, timesteps)\n",
        "\n",
        "    # Get the text embedding for conditioning\n",
        "    encoder_hidden_states = text_encoder(batch[\"input_ids\"].long().to(device))[0]\n",
        "    _ = pipe.unet(noisy_latents, timesteps.to(device), encoder_hidden_states).sample\n",
        "    features = pipe.unet.mid_block.output\n",
        "    features_all.append(features)\n",
        "\n",
        "features_all = torch.vstack(features_all)\n",
        "torch.save(features_all, \"midU_features.pt\")"
      ]
    },
    {
      "cell_type": "markdown",
      "metadata": {
        "id": "6Tu7IbJUqZUV"
      },
      "source": [
        "# Train the aesthetic classifier"
      ]
    },
    {
      "cell_type": "code",
      "execution_count": 2,
      "metadata": {
        "id": "MQu3W66GrUNA",
        "colab": {
          "base_uri": "https://localhost:8080/",
          "height": 121,
          "referenced_widgets": [
            "561df4e10d8f45acb411b5f362ea4f58",
            "9f6d2380cc7e45bdb0888d17bf91c106",
            "c8cc17f4574e47a0bb8024a6c258e5c5",
            "907cc5c11c244f13b7da98405cde8014",
            "c7f92579395b4f37acefe1e9d0f00886",
            "e95ef71603f64740898d6f301754ef17",
            "fba011d6ba934f078f68ddd586f34836",
            "a945b8d93bd049a4b89cb76f50062b53",
            "b4e805595f264ab78842493cf65d19cd",
            "3d1a7ba340dd4e71b90dfa11ac8945c3",
            "f7d5d0096859440bba00e04f47caff59"
          ]
        },
        "outputId": "0b1b9344-e213-438b-cadc-8dd0ea102a31"
      },
      "outputs": [
        {
          "output_type": "stream",
          "name": "stderr",
          "text": [
            "WARNING:datasets.builder:Found cached dataset parquet (/root/.cache/huggingface/datasets/fantasyfish___parquet/fantasyfish--laion-art-8540b05165195830/0.0.0/14a00e99c0d15a23649d0db8944380ac81082d4b021f398733dd84f3a6c569a7)\n"
          ]
        },
        {
          "output_type": "display_data",
          "data": {
            "text/plain": [
              "  0%|          | 0/2 [00:00<?, ?it/s]"
            ],
            "application/vnd.jupyter.widget-view+json": {
              "version_major": 2,
              "version_minor": 0,
              "model_id": "561df4e10d8f45acb411b5f362ea4f58"
            }
          },
          "metadata": {}
        },
        {
          "output_type": "stream",
          "name": "stderr",
          "text": [
            "/usr/local/lib/python3.10/dist-packages/torch/utils/data/dataloader.py:560: UserWarning: This DataLoader will create 16 worker processes in total. Our suggested max number of worker in current system is 4, which is smaller than what this DataLoader is going to create. Please be aware that excessive worker creation might get DataLoader running slow or even freeze, lower the worker number to avoid potential slowness/freeze if necessary.\n",
            "  warnings.warn(_create_warning_msg(\n"
          ]
        }
      ],
      "source": [
        "from datasets import load_dataset\n",
        "import torch\n",
        "\n",
        "batch_size = 64\n",
        "dataloader_num_workers = 16\n",
        "dataset = load_dataset(\"fantasyfish/laion-art\")\n",
        "train_dataset = dataset[\"train\"].remove_columns([\"image\", \"text\"])\n",
        "test_dataset = dataset[\"test\"].remove_columns([\"image\", \"text\"])\n",
        "\n",
        "def collate_fn(examples):\n",
        "    aethetics = torch.FloatTensor([example[\"aesthetic\"] for example in examples])\n",
        "    return {\"aesthetics\": aethetics}\n",
        "train_dataloader = torch.utils.data.DataLoader(\n",
        "    train_dataset,\n",
        "    shuffle=False,\n",
        "    collate_fn=collate_fn,\n",
        "    batch_size=batch_size,\n",
        "    num_workers=dataloader_num_workers,\n",
        ")\n",
        "test_dataloader = torch.utils.data.DataLoader(\n",
        "    test_dataset,\n",
        "    shuffle=False,\n",
        "    collate_fn=collate_fn,\n",
        "    batch_size=batch_size,\n",
        "    num_workers=dataloader_num_workers,\n",
        ")"
      ]
    },
    {
      "cell_type": "code",
      "source": [
        "from google.colab import drive\n",
        "drive.mount('/content/drive')"
      ],
      "metadata": {
        "colab": {
          "base_uri": "https://localhost:8080/"
        },
        "id": "UNFSAtmKtxff",
        "outputId": "b906c787-3717-4c7f-b4d3-4691e34a9109"
      },
      "execution_count": 5,
      "outputs": [
        {
          "output_type": "stream",
          "name": "stdout",
          "text": [
            "Mounted at /content/drive\n"
          ]
        }
      ]
    },
    {
      "cell_type": "code",
      "execution_count": 3,
      "metadata": {
        "id": "HACzBSZCM5w6"
      },
      "outputs": [],
      "source": [
        "import os\n",
        "mount_dir = '/content/drive/MyDrive'\n",
        "midU_features = torch.load(os.path.join(mount_dir, \"midU_features.pt\"), map_location=torch.device(\"cpu\"))\n",
        "test_midU_features = torch.load(os.path.join(mount_dir, \"test_midU_features.pt\"), map_location=torch.device(\"cpu\"))"
      ]
    },
    {
      "cell_type": "code",
      "execution_count": 4,
      "metadata": {
        "colab": {
          "base_uri": "https://localhost:8080/"
        },
        "id": "1Ot772jzSa5h",
        "outputId": "d050d7c5-2d72-4c82-e344-96e4b0c99326"
      },
      "outputs": [
        {
          "output_type": "stream",
          "name": "stdout",
          "text": [
            "8.000041961669922 10.2408447265625\n",
            "8.00003433227539 10.080093383789062\n"
          ]
        }
      ],
      "source": [
        "import torch.nn.functional as F\n",
        "\n",
        "min_val, max_val = min(train_dataset['aesthetic']), max(train_dataset['aesthetic'])\n",
        "print(min_val, max_val)\n",
        "print(min(test_dataset['aesthetic']), max(test_dataset['aesthetic']))\n",
        "def encode_onehot(labels, min_val, max_val):\n",
        "    index = torch.floor(((labels - min_val) / (max_val - min_val + 1e-4) * 10.0)).long()\n",
        "    return F.one_hot(index, num_classes=10).float()\n",
        "\n",
        "# batch = next(iter(train_dataloader))\n",
        "# encode_onehot(batch['aesthetics'], min_val, max_val)[:10]"
      ]
    },
    {
      "cell_type": "code",
      "execution_count": 5,
      "metadata": {
        "id": "E90giIgUSa5j"
      },
      "outputs": [],
      "source": [
        "from torch import nn\n",
        "import torch.nn.functional as F\n",
        "import torch.optim.lr_scheduler as lr_scheduler\n",
        "\n",
        "device = \"cuda\"\n",
        "lr = 1e-4\n",
        "model = nn.Sequential(\n",
        "    nn.Conv2d(1280, 256, kernel_size=3, padding=1), nn.ReLU(),\n",
        "    nn.MaxPool2d(2, 2),\n",
        "    nn.Conv2d(256, 128, kernel_size=3, padding=1                                                                                                                ), nn.ReLU(),\n",
        "    nn.AdaptiveAvgPool2d(output_size=(2, 2)), nn.Flatten(),\n",
        "    nn.Linear(128*4, 64), nn.ReLU(), nn.Linear(64, 10)\n",
        ").to(device)\n",
        "\n",
        "criterion = nn.CrossEntropyLoss()\n",
        "optimizer = torch.optim.Adam(model.parameters(), lr=lr, weight_decay=1e-2)"
      ]
    },
    {
      "cell_type": "code",
      "execution_count": 6,
      "metadata": {
        "colab": {
          "base_uri": "https://localhost:8080/",
          "height": 177
        },
        "id": "9MSfOemFSa5i",
        "outputId": "e2bf6149-44d7-4824-af60-261ba4bc14e8"
      },
      "outputs": [
        {
          "output_type": "stream",
          "name": "stdout",
          "text": [
            "env: WANDB_NOTEBOOK_NAME=prompt_engineer.ipynb\n"
          ]
        },
        {
          "output_type": "stream",
          "name": "stderr",
          "text": [
            "\u001b[34m\u001b[1mwandb\u001b[0m: \u001b[33mWARNING\u001b[0m WANDB_NOTEBOOK_NAME should be a path to a notebook file, couldn't find prompt_engineer.ipynb.\n",
            "\u001b[34m\u001b[1mwandb\u001b[0m: Currently logged in as: \u001b[33mfantasy-fish\u001b[0m. Use \u001b[1m`wandb login --relogin`\u001b[0m to force relogin\n"
          ]
        },
        {
          "output_type": "display_data",
          "data": {
            "text/plain": [
              "<IPython.core.display.HTML object>"
            ],
            "text/html": [
              "Tracking run with wandb version 0.15.4"
            ]
          },
          "metadata": {}
        },
        {
          "output_type": "display_data",
          "data": {
            "text/plain": [
              "<IPython.core.display.HTML object>"
            ],
            "text/html": [
              "Run data is saved locally in <code>/content/wandb/run-20230703_094401-of09naos</code>"
            ]
          },
          "metadata": {}
        },
        {
          "output_type": "display_data",
          "data": {
            "text/plain": [
              "<IPython.core.display.HTML object>"
            ],
            "text/html": [
              "Syncing run <strong><a href='https://wandb.ai/fantasy-fish/aesthetic-classifier/runs/of09naos' target=\"_blank\">resilient-sky-25</a></strong> to <a href='https://wandb.ai/fantasy-fish/aesthetic-classifier' target=\"_blank\">Weights & Biases</a> (<a href='https://wandb.me/run' target=\"_blank\">docs</a>)<br/>"
            ]
          },
          "metadata": {}
        },
        {
          "output_type": "display_data",
          "data": {
            "text/plain": [
              "<IPython.core.display.HTML object>"
            ],
            "text/html": [
              " View project at <a href='https://wandb.ai/fantasy-fish/aesthetic-classifier' target=\"_blank\">https://wandb.ai/fantasy-fish/aesthetic-classifier</a>"
            ]
          },
          "metadata": {}
        },
        {
          "output_type": "display_data",
          "data": {
            "text/plain": [
              "<IPython.core.display.HTML object>"
            ],
            "text/html": [
              " View run at <a href='https://wandb.ai/fantasy-fish/aesthetic-classifier/runs/of09naos' target=\"_blank\">https://wandb.ai/fantasy-fish/aesthetic-classifier/runs/of09naos</a>"
            ]
          },
          "metadata": {}
        },
        {
          "output_type": "execute_result",
          "data": {
            "text/html": [
              "<button onClick=\"this.nextSibling.style.display='block';this.style.display='none';\">Display W&B run</button><iframe src='https://wandb.ai/fantasy-fish/aesthetic-classifier/runs/of09naos?jupyter=true' style='border:none;width:100%;height:420px;display:none;'></iframe>"
            ],
            "text/plain": [
              "<wandb.sdk.wandb_run.Run at 0x7fddbd02bb50>"
            ]
          },
          "metadata": {},
          "execution_count": 6
        }
      ],
      "source": [
        "%env WANDB_NOTEBOOK_NAME prompt_engineer_exploration.ipynb\n",
        "import wandb\n",
        "wandb.login()\n",
        "\n",
        "wandb.init(project=\"aesthetic-classifier\",\n",
        "           config={\n",
        "               \"batch_size\": batch_size,\n",
        "               \"learning_rate\": lr,\n",
        "               \"dataset\": \"liason-art\",\n",
        "           })"
      ]
    },
    {
      "cell_type": "code",
      "execution_count": null,
      "metadata": {
        "id": "qazaxFbgsLPT"
      },
      "outputs": [],
      "source": [
        "%%wandb\n",
        "\n",
        "global_step = 0\n",
        "\n",
        "n_epochs = 100\n",
        "n_epochs_decay_start = 50\n",
        "n_epochs_save_checkpoint = 5\n",
        "scheduler = lr_scheduler.LinearLR(optimizer, start_factor=1.0, end_factor=0.1)\n",
        "train_min_val, train_max_val = min(train_dataset['aesthetic']), max(train_dataset['aesthetic'])\n",
        "test_min_val, test_max_val = min(test_dataset['aesthetic']), max(test_dataset['aesthetic'])\n",
        "\n",
        "for epoch in range(n_epochs):\n",
        "    for batch_id, batch in enumerate(train_dataloader, 0):\n",
        "        global_step += batch_size\n",
        "        optimizer.zero_grad() # a clean up step for PyTorc\n",
        "\n",
        "        features = midU_features[batch_id*batch_size:(batch_id+1)*batch_size].to(device)\n",
        "        logits = model(features).to(device)\n",
        "        labels = encode_onehot(batch['aesthetics'], train_min_val, train_max_val).to(device)\n",
        "        loss = criterion(logits, labels)\n",
        "\n",
        "        loss.backward() # compute updates for each parameter\n",
        "        optimizer.step() # make the updates for each parameter\n",
        "\n",
        "        wandb.log({\"step_loss\": loss.detach().item() / batch_size, \"lr\": scheduler.get_last_lr()[0]})\n",
        "\n",
        "        if epoch >= n_epochs_decay_start:\n",
        "            lr_scheduler.step()\n",
        "\n",
        "    # run validation\n",
        "    model.eval()\n",
        "    with torch.no_grad():\n",
        "        test_loss = 0.0\n",
        "        for batch_id, batch in enumerate(test_dataloader):\n",
        "            features = test_midU_features[batch_id*batch_size:(batch_id+1)*batch_size].to(device)\n",
        "            logits = model(features).to(device)\n",
        "            labels = encode_onehot(batch['aesthetics'], test_min_val, test_max_val).to(device)\n",
        "            loss = criterion(logits, labels)\n",
        "            test_loss += loss.detach().item() / len(test_dataset)\n",
        "        wandb.log({\"test_loss\": test_loss})\n",
        "    model.train()\n",
        "\n",
        "    if epoch > 0 and epoch % n_epochs_save_checkpoint == 0:\n",
        "        torch.save(model.state_dict(), f\"model_{epoch}.pt\")"
      ]
    }
  ],
  "metadata": {
    "colab": {
      "gpuType": "T4",
      "machine_shape": "hm",
      "provenance": []
    },
    "kernelspec": {
      "display_name": "Python 3",
      "name": "python3"
    },
    "language_info": {
      "codemirror_mode": {
        "name": "ipython",
        "version": 3
      },
      "file_extension": ".py",
      "mimetype": "text/x-python",
      "name": "python",
      "nbconvert_exporter": "python",
      "pygments_lexer": "ipython3",
      "version": "3.11.4"
    },
    "accelerator": "GPU",
    "widgets": {
      "application/vnd.jupyter.widget-state+json": {
        "561df4e10d8f45acb411b5f362ea4f58": {
          "model_module": "@jupyter-widgets/controls",
          "model_name": "HBoxModel",
          "model_module_version": "1.5.0",
          "state": {
            "_dom_classes": [],
            "_model_module": "@jupyter-widgets/controls",
            "_model_module_version": "1.5.0",
            "_model_name": "HBoxModel",
            "_view_count": null,
            "_view_module": "@jupyter-widgets/controls",
            "_view_module_version": "1.5.0",
            "_view_name": "HBoxView",
            "box_style": "",
            "children": [
              "IPY_MODEL_9f6d2380cc7e45bdb0888d17bf91c106",
              "IPY_MODEL_c8cc17f4574e47a0bb8024a6c258e5c5",
              "IPY_MODEL_907cc5c11c244f13b7da98405cde8014"
            ],
            "layout": "IPY_MODEL_c7f92579395b4f37acefe1e9d0f00886"
          }
        },
        "9f6d2380cc7e45bdb0888d17bf91c106": {
          "model_module": "@jupyter-widgets/controls",
          "model_name": "HTMLModel",
          "model_module_version": "1.5.0",
          "state": {
            "_dom_classes": [],
            "_model_module": "@jupyter-widgets/controls",
            "_model_module_version": "1.5.0",
            "_model_name": "HTMLModel",
            "_view_count": null,
            "_view_module": "@jupyter-widgets/controls",
            "_view_module_version": "1.5.0",
            "_view_name": "HTMLView",
            "description": "",
            "description_tooltip": null,
            "layout": "IPY_MODEL_e95ef71603f64740898d6f301754ef17",
            "placeholder": "​",
            "style": "IPY_MODEL_fba011d6ba934f078f68ddd586f34836",
            "value": "100%"
          }
        },
        "c8cc17f4574e47a0bb8024a6c258e5c5": {
          "model_module": "@jupyter-widgets/controls",
          "model_name": "FloatProgressModel",
          "model_module_version": "1.5.0",
          "state": {
            "_dom_classes": [],
            "_model_module": "@jupyter-widgets/controls",
            "_model_module_version": "1.5.0",
            "_model_name": "FloatProgressModel",
            "_view_count": null,
            "_view_module": "@jupyter-widgets/controls",
            "_view_module_version": "1.5.0",
            "_view_name": "ProgressView",
            "bar_style": "success",
            "description": "",
            "description_tooltip": null,
            "layout": "IPY_MODEL_a945b8d93bd049a4b89cb76f50062b53",
            "max": 2,
            "min": 0,
            "orientation": "horizontal",
            "style": "IPY_MODEL_b4e805595f264ab78842493cf65d19cd",
            "value": 2
          }
        },
        "907cc5c11c244f13b7da98405cde8014": {
          "model_module": "@jupyter-widgets/controls",
          "model_name": "HTMLModel",
          "model_module_version": "1.5.0",
          "state": {
            "_dom_classes": [],
            "_model_module": "@jupyter-widgets/controls",
            "_model_module_version": "1.5.0",
            "_model_name": "HTMLModel",
            "_view_count": null,
            "_view_module": "@jupyter-widgets/controls",
            "_view_module_version": "1.5.0",
            "_view_name": "HTMLView",
            "description": "",
            "description_tooltip": null,
            "layout": "IPY_MODEL_3d1a7ba340dd4e71b90dfa11ac8945c3",
            "placeholder": "​",
            "style": "IPY_MODEL_f7d5d0096859440bba00e04f47caff59",
            "value": " 2/2 [00:00&lt;00:00,  3.37it/s]"
          }
        },
        "c7f92579395b4f37acefe1e9d0f00886": {
          "model_module": "@jupyter-widgets/base",
          "model_name": "LayoutModel",
          "model_module_version": "1.2.0",
          "state": {
            "_model_module": "@jupyter-widgets/base",
            "_model_module_version": "1.2.0",
            "_model_name": "LayoutModel",
            "_view_count": null,
            "_view_module": "@jupyter-widgets/base",
            "_view_module_version": "1.2.0",
            "_view_name": "LayoutView",
            "align_content": null,
            "align_items": null,
            "align_self": null,
            "border": null,
            "bottom": null,
            "display": null,
            "flex": null,
            "flex_flow": null,
            "grid_area": null,
            "grid_auto_columns": null,
            "grid_auto_flow": null,
            "grid_auto_rows": null,
            "grid_column": null,
            "grid_gap": null,
            "grid_row": null,
            "grid_template_areas": null,
            "grid_template_columns": null,
            "grid_template_rows": null,
            "height": null,
            "justify_content": null,
            "justify_items": null,
            "left": null,
            "margin": null,
            "max_height": null,
            "max_width": null,
            "min_height": null,
            "min_width": null,
            "object_fit": null,
            "object_position": null,
            "order": null,
            "overflow": null,
            "overflow_x": null,
            "overflow_y": null,
            "padding": null,
            "right": null,
            "top": null,
            "visibility": null,
            "width": null
          }
        },
        "e95ef71603f64740898d6f301754ef17": {
          "model_module": "@jupyter-widgets/base",
          "model_name": "LayoutModel",
          "model_module_version": "1.2.0",
          "state": {
            "_model_module": "@jupyter-widgets/base",
            "_model_module_version": "1.2.0",
            "_model_name": "LayoutModel",
            "_view_count": null,
            "_view_module": "@jupyter-widgets/base",
            "_view_module_version": "1.2.0",
            "_view_name": "LayoutView",
            "align_content": null,
            "align_items": null,
            "align_self": null,
            "border": null,
            "bottom": null,
            "display": null,
            "flex": null,
            "flex_flow": null,
            "grid_area": null,
            "grid_auto_columns": null,
            "grid_auto_flow": null,
            "grid_auto_rows": null,
            "grid_column": null,
            "grid_gap": null,
            "grid_row": null,
            "grid_template_areas": null,
            "grid_template_columns": null,
            "grid_template_rows": null,
            "height": null,
            "justify_content": null,
            "justify_items": null,
            "left": null,
            "margin": null,
            "max_height": null,
            "max_width": null,
            "min_height": null,
            "min_width": null,
            "object_fit": null,
            "object_position": null,
            "order": null,
            "overflow": null,
            "overflow_x": null,
            "overflow_y": null,
            "padding": null,
            "right": null,
            "top": null,
            "visibility": null,
            "width": null
          }
        },
        "fba011d6ba934f078f68ddd586f34836": {
          "model_module": "@jupyter-widgets/controls",
          "model_name": "DescriptionStyleModel",
          "model_module_version": "1.5.0",
          "state": {
            "_model_module": "@jupyter-widgets/controls",
            "_model_module_version": "1.5.0",
            "_model_name": "DescriptionStyleModel",
            "_view_count": null,
            "_view_module": "@jupyter-widgets/base",
            "_view_module_version": "1.2.0",
            "_view_name": "StyleView",
            "description_width": ""
          }
        },
        "a945b8d93bd049a4b89cb76f50062b53": {
          "model_module": "@jupyter-widgets/base",
          "model_name": "LayoutModel",
          "model_module_version": "1.2.0",
          "state": {
            "_model_module": "@jupyter-widgets/base",
            "_model_module_version": "1.2.0",
            "_model_name": "LayoutModel",
            "_view_count": null,
            "_view_module": "@jupyter-widgets/base",
            "_view_module_version": "1.2.0",
            "_view_name": "LayoutView",
            "align_content": null,
            "align_items": null,
            "align_self": null,
            "border": null,
            "bottom": null,
            "display": null,
            "flex": null,
            "flex_flow": null,
            "grid_area": null,
            "grid_auto_columns": null,
            "grid_auto_flow": null,
            "grid_auto_rows": null,
            "grid_column": null,
            "grid_gap": null,
            "grid_row": null,
            "grid_template_areas": null,
            "grid_template_columns": null,
            "grid_template_rows": null,
            "height": null,
            "justify_content": null,
            "justify_items": null,
            "left": null,
            "margin": null,
            "max_height": null,
            "max_width": null,
            "min_height": null,
            "min_width": null,
            "object_fit": null,
            "object_position": null,
            "order": null,
            "overflow": null,
            "overflow_x": null,
            "overflow_y": null,
            "padding": null,
            "right": null,
            "top": null,
            "visibility": null,
            "width": null
          }
        },
        "b4e805595f264ab78842493cf65d19cd": {
          "model_module": "@jupyter-widgets/controls",
          "model_name": "ProgressStyleModel",
          "model_module_version": "1.5.0",
          "state": {
            "_model_module": "@jupyter-widgets/controls",
            "_model_module_version": "1.5.0",
            "_model_name": "ProgressStyleModel",
            "_view_count": null,
            "_view_module": "@jupyter-widgets/base",
            "_view_module_version": "1.2.0",
            "_view_name": "StyleView",
            "bar_color": null,
            "description_width": ""
          }
        },
        "3d1a7ba340dd4e71b90dfa11ac8945c3": {
          "model_module": "@jupyter-widgets/base",
          "model_name": "LayoutModel",
          "model_module_version": "1.2.0",
          "state": {
            "_model_module": "@jupyter-widgets/base",
            "_model_module_version": "1.2.0",
            "_model_name": "LayoutModel",
            "_view_count": null,
            "_view_module": "@jupyter-widgets/base",
            "_view_module_version": "1.2.0",
            "_view_name": "LayoutView",
            "align_content": null,
            "align_items": null,
            "align_self": null,
            "border": null,
            "bottom": null,
            "display": null,
            "flex": null,
            "flex_flow": null,
            "grid_area": null,
            "grid_auto_columns": null,
            "grid_auto_flow": null,
            "grid_auto_rows": null,
            "grid_column": null,
            "grid_gap": null,
            "grid_row": null,
            "grid_template_areas": null,
            "grid_template_columns": null,
            "grid_template_rows": null,
            "height": null,
            "justify_content": null,
            "justify_items": null,
            "left": null,
            "margin": null,
            "max_height": null,
            "max_width": null,
            "min_height": null,
            "min_width": null,
            "object_fit": null,
            "object_position": null,
            "order": null,
            "overflow": null,
            "overflow_x": null,
            "overflow_y": null,
            "padding": null,
            "right": null,
            "top": null,
            "visibility": null,
            "width": null
          }
        },
        "f7d5d0096859440bba00e04f47caff59": {
          "model_module": "@jupyter-widgets/controls",
          "model_name": "DescriptionStyleModel",
          "model_module_version": "1.5.0",
          "state": {
            "_model_module": "@jupyter-widgets/controls",
            "_model_module_version": "1.5.0",
            "_model_name": "DescriptionStyleModel",
            "_view_count": null,
            "_view_module": "@jupyter-widgets/base",
            "_view_module_version": "1.2.0",
            "_view_name": "StyleView",
            "description_width": ""
          }
        }
      }
    }
  },
  "nbformat": 4,
  "nbformat_minor": 0
}